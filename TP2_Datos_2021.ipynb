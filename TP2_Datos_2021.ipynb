{
  "nbformat": 4,
  "nbformat_minor": 0,
  "metadata": {
    "colab": {
      "name": "TP2-Datos-2021.ipynb",
      "provenance": [],
      "collapsed_sections": [],
      "include_colab_link": true
    },
    "kernelspec": {
      "name": "python3",
      "display_name": "Python 3"
    },
    "language_info": {
      "name": "python"
    },
    "accelerator": "GPU"
  },
  "cells": [
    {
      "cell_type": "markdown",
      "metadata": {
        "id": "view-in-github",
        "colab_type": "text"
      },
      "source": [
        "<a href=\"https://colab.research.google.com/github/bucetabelen/AnalisisNumerico-met_Runge-Kutta/blob/master/TP2_Datos_2021.ipynb\" target=\"_parent\"><img src=\"https://colab.research.google.com/assets/colab-badge.svg\" alt=\"Open In Colab\"/></a>"
      ]
    },
    {
      "cell_type": "code",
      "metadata": {
        "id": "fafSQiZUi8ky"
      },
      "source": [
        "from sklearn.tree import DecisionTreeClassifier\n",
        "import pandas as pd\n",
        "import numpy as np\n",
        "import seaborn as sns\n",
        "import matplotlib.pyplot as plt \n",
        "from sklearn.model_selection import train_test_split\n",
        "from sklearn.ensemble import RandomForestClassifier\n",
        "from sklearn.model_selection import GridSearchCV\n",
        "\n",
        "from sklearn.metrics import f1_score\n",
        "from xgboost import XGBClassifier"
      ],
      "execution_count": null,
      "outputs": []
    },
    {
      "cell_type": "code",
      "metadata": {
        "id": "1WnjhoxyvHYO"
      },
      "source": [
        "#!pip install scikit-optimize"
      ],
      "execution_count": null,
      "outputs": []
    },
    {
      "cell_type": "code",
      "metadata": {
        "id": "gMXa9mkbvFm7"
      },
      "source": [
        "import skopt\n",
        "from sklearn.model_selection import RepeatedStratifiedKFold"
      ],
      "execution_count": null,
      "outputs": []
    },
    {
      "cell_type": "code",
      "metadata": {
        "id": "DAer9YKh4C-u"
      },
      "source": [
        "train_labels = pd.read_csv(\"/content/train_labels.csv\")\n",
        "train_values = pd.read_csv(\"/content/train_values.csv\")\n",
        "test_values = pd.read_csv(\"/content/test_values.csv\")"
      ],
      "execution_count": null,
      "outputs": []
    },
    {
      "cell_type": "code",
      "metadata": {
        "id": "4-gyFM8f25ZH"
      },
      "source": [
        "columnas_adroppear = ['legal_ownership_status','count_families', 'has_secondary_use_agriculture','has_secondary_use_hotel','has_secondary_use_rental',\\\n",
        "                     'has_secondary_use_institution','has_secondary_use_school','has_secondary_use_industry','has_secondary_use_health_post','has_secondary_use_gov_office',\\\n",
        "                     'has_secondary_use_use_police','has_secondary_use_other']\n",
        "\n",
        "x_pre = pd.get_dummies(train_values.drop(columns = columnas_adroppear)).drop(columns = 'building_id')\n",
        "y_pre = train_labels.loc[:,'damage_grade']\n",
        "\n",
        "X = x_pre\n",
        "y = y_pre\n",
        "X_train, X_test, y_train, y_test = train_test_split(X, y, test_size = 0.2, random_state = 42)"
      ],
      "execution_count": null,
      "outputs": []
    },
    {
      "cell_type": "markdown",
      "metadata": {
        "id": "7wVyf8iOtJDM"
      },
      "source": [
        ""
      ]
    },
    {
      "cell_type": "markdown",
      "metadata": {
        "id": "4tz9--_Z4mdv"
      },
      "source": [
        "# Esto correlo primero"
      ]
    },
    {
      "cell_type": "code",
      "metadata": {
        "id": "OjNjU1Ql4pfF"
      },
      "source": [
        "hiper = {'criterion': ['entropy'],'max_depth': range(1,30), 'min_samples_split': [2,3,4], 'min_samples_leaf': range(1,20)}\n",
        "clf = GridSearchCV(DecisionTreeClassifier(),hiper,cv=5)\n",
        "clf.fit(X,y)"
      ],
      "execution_count": null,
      "outputs": []
    },
    {
      "cell_type": "code",
      "metadata": {
        "id": "aynnggm64kUd"
      },
      "source": [
        "clf.best_score_"
      ],
      "execution_count": null,
      "outputs": []
    },
    {
      "cell_type": "code",
      "metadata": {
        "id": "IYONiZ3aa1pf"
      },
      "source": [
        "clf.best_params_"
      ],
      "execution_count": null,
      "outputs": []
    },
    {
      "cell_type": "code",
      "metadata": {
        "id": "Dj0A30Xsa6Ib"
      },
      "source": [
        "\"\"\"\n",
        "dt = DecisionTreeClassifier(criterion = \"entropy\", max_depth = ,min_samples_split = ,min_samples_leaf = )\n",
        "model = rf.fit(X_train, y_train)\n",
        "\n",
        "model.predict(X_test)\n",
        "print(\"Training Score: {}\".format(dt.score(X_train, y_train)))\n",
        "print(\"Test Score: {}\".format(dt.score(X_test, y_test)))\n",
        "\n",
        "\"\"\""
      ],
      "execution_count": null,
      "outputs": []
    },
    {
      "cell_type": "markdown",
      "metadata": {
        "id": "TtV3_E4x401X"
      },
      "source": [
        "Random Forest con todos los features\n",
        "\n"
      ]
    },
    {
      "cell_type": "code",
      "metadata": {
        "id": "rRq2HSXB3AYO"
      },
      "source": [
        "hiper = {'n_estimators': [100, 250, 500, 1000], \n",
        "'min_samples_split':[20, 50, 250, 500]}\n",
        "rf_clf = RandomForestClassifier()\n",
        "gd_sr = GridSearchCV(rf_clf,param_grid=hiper,scoring='f1_micro',cv=5,n_jobs=-1)\n",
        "gd_sr.fit(X_train, y_train)"
      ],
      "execution_count": null,
      "outputs": []
    },
    {
      "cell_type": "code",
      "metadata": {
        "id": "U7-LIsTnZzs-"
      },
      "source": [
        "gd_sr.best_score_"
      ],
      "execution_count": null,
      "outputs": []
    },
    {
      "cell_type": "code",
      "metadata": {
        "id": "VU34T8WJZ1sr"
      },
      "source": [
        "gd_sr.best_params_"
      ],
      "execution_count": null,
      "outputs": []
    },
    {
      "cell_type": "code",
      "metadata": {
        "id": "Hn9rWTWyZ16D"
      },
      "source": [
        "rf = RandomForestClassifier(min_samples_split= 20, n_estimators=500)\n",
        "model = rf.fit(x_train, y_train)\n",
        "\n",
        "model.predict(x_test)\n",
        "print(\"Training Score: {}\".format(rf.score(x_train, y_train)))\n",
        "print(\"Test Score: {}\".format(rf.score(x_test, y_test)))"
      ],
      "execution_count": null,
      "outputs": []
    },
    {
      "cell_type": "markdown",
      "metadata": {
        "id": "l59VzefjaDYw"
      },
      "source": [
        "Random Forest con 5 features\n"
      ]
    },
    {
      "cell_type": "code",
      "metadata": {
        "id": "atF5_DsjaMXW",
        "colab": {
          "base_uri": "https://localhost:8080/",
          "height": 198
        },
        "outputId": "7bebc692-ca6d-4e41-f9ed-16832ba643b0"
      },
      "source": [
        "train_values_1 = train_values.loc[:,[\"building_id\",\"geo_level_1_id\",\"age\",\"foundation_type\",\"land_surface_condition\",\"ground_floor_type\"]]\n",
        "train_values_1.head()"
      ],
      "execution_count": null,
      "outputs": [
        {
          "output_type": "execute_result",
          "data": {
            "text/plain": [
              "   building_id  geo_level_1_id  age foundation_type land_surface_condition  \\\n",
              "0       802906               6   30               r                      t   \n",
              "1        28830               8   10               r                      o   \n",
              "2        94947              21   10               r                      t   \n",
              "3       590882              22   10               r                      t   \n",
              "4       201944              11   30               r                      t   \n",
              "\n",
              "  ground_floor_type  \n",
              "0                 f  \n",
              "1                 x  \n",
              "2                 f  \n",
              "3                 f  \n",
              "4                 f  "
            ],
            "text/html": [
              "<div>\n",
              "<style scoped>\n",
              "    .dataframe tbody tr th:only-of-type {\n",
              "        vertical-align: middle;\n",
              "    }\n",
              "\n",
              "    .dataframe tbody tr th {\n",
              "        vertical-align: top;\n",
              "    }\n",
              "\n",
              "    .dataframe thead th {\n",
              "        text-align: right;\n",
              "    }\n",
              "</style>\n",
              "<table border=\"1\" class=\"dataframe\">\n",
              "  <thead>\n",
              "    <tr style=\"text-align: right;\">\n",
              "      <th></th>\n",
              "      <th>building_id</th>\n",
              "      <th>geo_level_1_id</th>\n",
              "      <th>age</th>\n",
              "      <th>foundation_type</th>\n",
              "      <th>land_surface_condition</th>\n",
              "      <th>ground_floor_type</th>\n",
              "    </tr>\n",
              "  </thead>\n",
              "  <tbody>\n",
              "    <tr>\n",
              "      <th>0</th>\n",
              "      <td>802906</td>\n",
              "      <td>6</td>\n",
              "      <td>30</td>\n",
              "      <td>r</td>\n",
              "      <td>t</td>\n",
              "      <td>f</td>\n",
              "    </tr>\n",
              "    <tr>\n",
              "      <th>1</th>\n",
              "      <td>28830</td>\n",
              "      <td>8</td>\n",
              "      <td>10</td>\n",
              "      <td>r</td>\n",
              "      <td>o</td>\n",
              "      <td>x</td>\n",
              "    </tr>\n",
              "    <tr>\n",
              "      <th>2</th>\n",
              "      <td>94947</td>\n",
              "      <td>21</td>\n",
              "      <td>10</td>\n",
              "      <td>r</td>\n",
              "      <td>t</td>\n",
              "      <td>f</td>\n",
              "    </tr>\n",
              "    <tr>\n",
              "      <th>3</th>\n",
              "      <td>590882</td>\n",
              "      <td>22</td>\n",
              "      <td>10</td>\n",
              "      <td>r</td>\n",
              "      <td>t</td>\n",
              "      <td>f</td>\n",
              "    </tr>\n",
              "    <tr>\n",
              "      <th>4</th>\n",
              "      <td>201944</td>\n",
              "      <td>11</td>\n",
              "      <td>30</td>\n",
              "      <td>r</td>\n",
              "      <td>t</td>\n",
              "      <td>f</td>\n",
              "    </tr>\n",
              "  </tbody>\n",
              "</table>\n",
              "</div>"
            ]
          },
          "metadata": {
            "tags": []
          },
          "execution_count": 6
        }
      ]
    },
    {
      "cell_type": "code",
      "metadata": {
        "id": "vM7a97DKaSou"
      },
      "source": [
        "train = train_values_1.merge(train_labels,on = \"building_id\")"
      ],
      "execution_count": null,
      "outputs": []
    },
    {
      "cell_type": "code",
      "metadata": {
        "id": "ZEXpfyKEaWZ2"
      },
      "source": [
        "x_pre = pd.get_dummies(train.drop(columns = 'building_id'))\n",
        "y_pre = train.loc[:,'damage_grade']\n",
        "\n",
        "x = x_pre\n",
        "y = y_pre\n",
        "x_train, x_test, y_train, y_test = train_test_split(x, y, test_size = 0.2, random_state = 42)"
      ],
      "execution_count": null,
      "outputs": []
    },
    {
      "cell_type": "code",
      "metadata": {
        "id": "Sr1rj7eyaaQr"
      },
      "source": [
        "hiper = {'n_estimators': [100, 250, 500, 1000], \n",
        "'min_samples_split':[20, 50, 250, 500]}\n",
        "rf_clf = RandomForestClassifier()\n",
        "gd_sr = GridSearchCV(rf_clf,param_grid=hiper,scoring='f1_micro',cv=5,n_jobs=-1)\n",
        "gd_sr.fit(x_train, y_train)"
      ],
      "execution_count": null,
      "outputs": []
    },
    {
      "cell_type": "code",
      "metadata": {
        "id": "CeQqyv8FaeGy"
      },
      "source": [
        "gd_sr.best_score_"
      ],
      "execution_count": null,
      "outputs": []
    },
    {
      "cell_type": "code",
      "metadata": {
        "id": "FmR8kyqqagUt"
      },
      "source": [
        "gd_sr.best_params_"
      ],
      "execution_count": null,
      "outputs": []
    },
    {
      "cell_type": "code",
      "metadata": {
        "id": "Lw-JeYw-akVU"
      },
      "source": [
        "rf = RandomForestClassifier(min_samples_split= 20, n_estimators=100)\n",
        "model = rf.fit(x_train, y_train)\n",
        "\n",
        "model.predict(x_test)\n",
        "print(\"Training Score: {}\".format(rf.score(x_train, y_train)))\n",
        "print(\"Test Score: {}\".format(rf.score(x_test, y_test)))"
      ],
      "execution_count": null,
      "outputs": []
    },
    {
      "cell_type": "markdown",
      "metadata": {
        "id": "4Qeb-94vvT2D"
      },
      "source": [
        "# Pobando XGBoost con n_estimators = 600, max_depth = 10, learning_rate = 0.1"
      ]
    },
    {
      "cell_type": "code",
      "metadata": {
        "id": "mPOyUzZHvSvD"
      },
      "source": [
        "columnas_adroppear = ['legal_ownership_status','count_families', 'has_secondary_use_agriculture','has_secondary_use_hotel','has_secondary_use_rental',\\\n",
        "'has_secondary_use_institution','has_secondary_use_school','has_secondary_use_industry','has_secondary_use_health_post','has_secondary_use_gov_office',\\\n",
        "'has_secondary_use_use_police','has_secondary_use_other']\n",
        "\n",
        "x_pre = pd.get_dummies(train_values.drop(columns = columnas_adroppear)).drop(columns = 'building_id')\n",
        "y_pre = train_labels.loc[:,'damage_grade']\n",
        "\n",
        "X = x_pre\n",
        "y = y_pre\n",
        "X_train, X_test, y_train, y_test = train_test_split(X, y, test_size = 0.2, random_state = 42)"
      ],
      "execution_count": null,
      "outputs": []
    },
    {
      "cell_type": "code",
      "metadata": {
        "id": "Iwq5XSzYvZh3"
      },
      "source": [
        "#Busqueda de hiperpasm: mejores dados n_estimators = 600, learning_rate = 0.1, max_depth = 10\n",
        "\n",
        "hiper = {'n_estimators': [400, 500, 600], \n",
        "'max_depth':[10,15,20],\n",
        "'learning_rate': [0.1,0.3,0.5]}\n",
        "xgb = XGBClassifier()\n",
        "cv = RepeatedStratifiedKFold(n_splits=10, n_repeats=3, random_state=1)\n",
        "bayes = skopt.BayesSearchCV(xgb,hiper,scoring='f1_micro',cv=cv,n_jobs=-1)\n",
        "bayes.fit(X_train, y_train)\n",
        "print(bayes.best_score_)\n",
        "print(bayes.best_params_)   "
      ],
      "execution_count": null,
      "outputs": []
    },
    {
      "cell_type": "code",
      "metadata": {
        "id": "XDqYjtBkp_SB"
      },
      "source": [
        "xgb = XGBClassifier(n_estimators = 600, max_depth = 10, learning_rate = 0.1)\n",
        "model = xgb.fit(X_train, y_train)"
      ],
      "execution_count": null,
      "outputs": []
    },
    {
      "cell_type": "code",
      "metadata": {
        "colab": {
          "base_uri": "https://localhost:8080/"
        },
        "id": "6dWnG9pawA6I",
        "outputId": "6445167f-c169-45aa-80ee-546914509d4f"
      },
      "source": [
        "#probando scores\n",
        "model.predict(X_test)\n",
        "print(\"Training Score: {}\".format(xgb.score(X_train, y_train)))\n",
        "print(\"Test Score: {}\".format(xgb.score(X_test, y_test)))"
      ],
      "execution_count": null,
      "outputs": [
        {
          "output_type": "stream",
          "text": [
            "Training Score: 0.8647400230237913\n",
            "Test Score: 0.7436925615394946\n"
          ],
          "name": "stdout"
        }
      ]
    },
    {
      "cell_type": "code",
      "metadata": {
        "id": "Fi8jEAzUwqQ-"
      },
      "source": [
        "test_values_subset = test_values.drop(columns = columnas_adroppear).set_index('building_id')\n",
        "test_values_subset = pd.get_dummies(test_values_subset)"
      ],
      "execution_count": null,
      "outputs": []
    },
    {
      "cell_type": "code",
      "metadata": {
        "id": "D85bRNnZw2xl"
      },
      "source": [
        "#submission xgboost 1\n",
        "predictions = model.predict(test_values_subset)\n",
        "test_values_subset['damage_grade'] = predictions\n",
        "test_values_subset.loc[:,'damage_grade'].to_csv(\"submission_xgb.csv\")"
      ],
      "execution_count": null,
      "outputs": []
    },
    {
      "cell_type": "markdown",
      "metadata": {
        "id": "7e0s-5DtyRNh"
      },
      "source": [
        ""
      ]
    }
  ]
}